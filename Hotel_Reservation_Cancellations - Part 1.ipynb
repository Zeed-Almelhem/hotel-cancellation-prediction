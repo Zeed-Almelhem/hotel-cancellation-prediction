{
 "cells": [
  {
   "cell_type": "markdown",
   "id": "de6e49a1-571f-4e4c-89b9-be3f9acbef42",
   "metadata": {
    "canvas": {
     "comments": [],
     "componentType": "CodeCell",
     "copiedOriginId": "e53b6712-c8a6-4650-a8c8-f21b3bd484ed",
     "diskcache": false,
     "headerColor": "transparent",
     "id": "3e33e25c-aa9e-4a59-947c-0832ed388cf4",
     "isComponent": false,
     "name": "",
     "parents": []
    },
    "tags": []
   },
   "source": [
    "# \n",
    "<h1 id=\"import\" style=\"color: #00c6ff ; background:#000000  ; padding: 20px; border-radius: 20px; text-align: center; border: 5px solid #990000;\">\n",
    "       Predicting Hotel Reservation Cancellations: Enhancing Revenue Management through Advanced Machine Learning\n",
    "    </h1>"
   ]
  },
  {
   "cell_type": "markdown",
   "id": "7970ac45-c30c-4be9-9a94-e39909876e33",
   "metadata": {
    "canvas": {
     "comments": [],
     "componentType": "CodeCell",
     "copiedOriginId": "1b6c40cf-a45c-482b-bbbe-242d696ef901",
     "diskcache": false,
     "headerColor": "transparent",
     "id": "1deb5a17-3b2e-4445-915c-0c2a506233f7",
     "isComponent": false,
     "name": "",
     "parents": []
    },
    "tags": []
   },
   "source": [
    "![cover](https://d2jx2rerrg6sh3.cloudfront.net/images/news/ImageForNews_751272_16868838064718195.jpg)"
   ]
  },
  {
   "cell_type": "markdown",
   "id": "6693a57d-e5cc-441d-9022-80b963ceac7b",
   "metadata": {
    "canvas": {
     "comments": [],
     "componentType": "CodeCell",
     "copiedOriginId": "9e1ef4e3-3941-4d39-a3bc-252b809d6a54",
     "diskcache": false,
     "headerColor": "transparent",
     "id": "4583910f-1b38-4e00-9855-62e62bbef2eb",
     "isComponent": false,
     "name": "",
     "parents": []
    },
    "tags": []
   },
   "source": [
    "## \n",
    "<h2 id=\"import\" style=\"color: #00c6ff ; background:#000000  ; padding: 20px; border-radius: 20px; text-align: center; border: 5px solid #990000;\">\n",
    "      I. Problem Definition and Metrics\n",
    "    </h2>"
   ]
  },
  {
   "cell_type": "markdown",
   "id": "2b26b34d-4189-4aff-b112-b4f187b2c285",
   "metadata": {
    "canvas": {
     "comments": [],
     "componentType": "CodeCell",
     "copiedOriginId": "03ebaaeb-498d-4523-945f-06956cc701fb",
     "diskcache": false,
     "headerColor": "transparent",
     "id": "54e66620-1620-49aa-a397-6ae639a9dc78",
     "isComponent": false,
     "name": "",
     "parents": []
    },
    "jp-MarkdownHeadingCollapsed": true,
    "tags": []
   },
   "source": [
    "### Problem Description\n",
    "The online hotel reservation channels have revolutionized the way customers book their stays, offering more flexibility and convenience. However, a significant challenge faced by hotels is dealing with cancellations and no-shows, often resulting from changes in plans or scheduling conflicts. While providing guests with the option to cancel free of charge or at a low cost is customer-friendly, it can negatively impact hotel revenue.\n",
    "\n",
    "To address this problem, we aim to predict whether each customer is likely to cancel their reservation or not. By identifying potential cancellations in advance, hotels can take proactive measures to minimize revenue loss and optimize room occupancy.\n",
    "\n",
    "### Goal\n",
    "The goal of this project is to build a binary classification model that can predict whether a hotel reservation will be canceled or not based on various features associated with the booking.\n",
    "\n",
    "### Dataset and Features\n",
    "We will use the following features to make predictions:\n",
    "\n",
    "1. **Booking_ID:** A unique identifier for each booking.\n",
    "2. **no_of_adults:** The number of adults included in the reservation.\n",
    "3. **no_of_children:** The number of children included in the reservation.\n",
    "4. **no_of_weekend_nights:** The number of weekend nights (Saturday or Sunday) the guest stayed or booked to stay at the hotel.\n",
    "5. **no_of_week_nights:** The number of week nights (Monday to Friday) the guest stayed or booked to stay at the hotel.\n",
    "6. **type_of_meal_plan:** The type of meal plan booked by the customer.\n",
    "7. **required_car_parking_space:** Indicates whether the customer requires a car parking space (0 - No, 1 - Yes).\n",
    "8. **room_type_reserved:** The type of room reserved by the customer, ciphered (encoded) by INN Hotels.\n",
    "9. **lead_time:** The number of days between the date of booking and the arrival date.\n",
    "10. **arrival_year:** The year of the arrival date.\n",
    "11. **arrival_month:** The month of the arrival date.\n",
    "12. **arrival_date:** The date of the month for the arrival.\n",
    "13. **market_segment_type:** Market segment designation.\n",
    "14. **repeated_guest:** Indicates whether the customer is a repeated guest (0 - No, 1 - Yes).\n",
    "15. **no_of_previous_cancellations:** The number of previous bookings canceled by the customer prior to the current booking.\n",
    "16. **no_of_previous_bookings_not_canceled:** The number of previous bookings not canceled by the customer prior to the current booking.\n",
    "17. **avg_price_per_room:** The average price per day of the reservation (in euros); room prices are dynamic.\n",
    "18. **no_of_special_requests:** The total number of special requests made by the customer (e.g., high floor, view from the room, etc.).\n",
    "\n",
    "### Target Variable\n",
    "Our target variable is **booking_status**, which indicates if the booking was canceled or not. This will serve as the label for our binary classification task, with the classes being 'Canceled' and 'Not Canceled'.\n",
    "\n",
    "### Evaluation Metrics\n",
    "To assess the performance of our binary classification model, we will use the following evaluation metrics:\n",
    "\n",
    "- **Accuracy:** The overall accuracy of the model in correctly predicting canceled and non-canceled reservations.\n",
    "- **Precision:** The proportion of correctly predicted positive instances (not canceled) out of all predicted positive instances.\n",
    "- **Recall:** The proportion of correctly predicted positive instances (not canceled) out of all actual positive instances.\n",
    "- **F1-score:** The harmonic mean of precision and recall, providing a balanced evaluation metric.\n",
    "- **Area Under the ROC Curve (AUC-ROC):** The area under the Receiver Operating Characteristic curve, measuring the model's ability to distinguish between the two classes.\n",
    "\n",
    "By optimizing these metrics, we aim to create a robust and accurate model that can effectively predict hotel reservation cancellations and help hotels optimize their operations and revenue."
   ]
  },
  {
   "cell_type": "markdown",
   "id": "46071309-312a-4154-9453-4e77cf1dc866",
   "metadata": {
    "canvas": {
     "comments": [],
     "componentType": "CodeCell",
     "copiedOriginId": "a42fcb14-c9ce-44f5-8eca-c5fcdf5b93a2",
     "diskcache": false,
     "headerColor": "transparent",
     "id": "f625da8e-6d2a-4dfa-9c29-3a7f969161c2",
     "isComponent": false,
     "name": "",
     "parents": []
    },
    "tags": []
   },
   "source": [
    "## \n",
    "\n",
    "<h2 id=\"import\" style=\"color: #00c6ff ; background:#000000  ; padding: 20px; border-radius: 20px; text-align: center; border: 5px solid #990000;\">\n",
    "       II.  Data Collection and Preprocessing\n",
    "    </h2>"
   ]
  },
  {
   "cell_type": "markdown",
   "id": "9f3f3acb-55af-49bf-8c77-4d1789371417",
   "metadata": {
    "canvas": {
     "comments": [],
     "componentType": "CodeCell",
     "copiedOriginId": "5a4a4539-4099-464a-b932-3fea6504fc85",
     "diskcache": false,
     "headerColor": "transparent",
     "id": "793f97ca-747f-4603-a87b-613d992a327f",
     "isComponent": false,
     "name": "",
     "parents": []
    }
   },
   "source": [
    "For this project, we collected hotel reservation data from online booking channels, ensuring a diverse and representative dataset. The dataset includes various features that can help us predict whether a reservation will be canceled or not. These features provide valuable insights into customer behavior and booking characteristics, enabling us to build an effective binary classification model."
   ]
  },
  {
   "cell_type": "markdown",
   "id": "e3f02388-4ef6-4e03-b7fe-4e56e21f9ff4",
   "metadata": {
    "canvas": {
     "comments": [],
     "componentType": "CodeCell",
     "copiedOriginId": "c0ca39f7-3815-472b-80ff-374beb82e89e",
     "diskcache": false,
     "headerColor": "transparent",
     "id": "3b28a7e8-3f97-489b-a9af-c430142b1458",
     "isComponent": false,
     "name": "",
     "parents": []
    },
    "tags": []
   },
   "source": [
    "###  \n",
    "<h3 id=\"import\" style=\"color: #a4edb8 ; background: #000000; padding: 20px; border-radius: 20px; text-align: left; border: 5px solid #990000;\">\n",
    "        1. Data Source: Kaggle - Hotel Reservation Dataset: \n",
    "    </h3>"
   ]
  },
  {
   "cell_type": "markdown",
   "id": "c9c380e5-ea6d-4ce8-bda6-d4a6cd0352c6",
   "metadata": {
    "canvas": {
     "comments": [],
     "componentType": "CodeCell",
     "copiedOriginId": "7f97bd03-66f4-4499-aa5d-a59dc9527529",
     "diskcache": false,
     "headerColor": "transparent",
     "id": "8a18e24d-bac0-4d6e-9736-a5a88052f7e6",
     "isComponent": false,
     "name": "",
     "parents": []
    },
    "tags": []
   },
   "source": [
    "#### Overview\n",
    "The dataset used in this project is sourced from Kaggle, a popular platform for data science competitions and datasets. The dataset is titled \"Hotel Reservation Demand\" and offers valuable insights into hotel reservations, cancellations, and customer booking behavior. It is a comprehensive collection of booking details that can help us address the challenge of predicting hotel reservation cancellations accurately.\n",
    "\n",
    "#### Dataset Description\n",
    "The \"Hotel Reservation Demand\" dataset contains a wide range of features related to hotel bookings, customer preferences, and reservation details. It encompasses information such as the number of adults and children, length of stay, meal plan booked, car parking requirements, lead time, arrival date details, market segment designation, repeated guest status, previous cancellations, room prices, and special requests made by customers.\n",
    "\n",
    "The dataset comprises both numerical and categorical variables, making it suitable for various machine learning tasks. The primary target variable, **booking_status**, indicates whether a reservation was canceled or not, serving as the foundation for our binary classification problem."
   ]
  },
  {
   "cell_type": "markdown",
   "id": "13315597-b3eb-4dac-a8f7-1cef7bbf1e19",
   "metadata": {
    "canvas": {
     "comments": [],
     "componentType": "CodeCell",
     "copiedOriginId": "a7ecdc71-1697-4a0e-a3c3-b106d7edad97",
     "diskcache": false,
     "headerColor": "transparent",
     "id": "de9d386f-2a5e-42ae-b96a-b2e134d93b7c",
     "isComponent": false,
     "name": "",
     "parents": []
    },
    "tags": []
   },
   "source": [
    "### \n",
    "<h3 id=\"import\" style=\"color: #a4edb8 ; background: #000000; padding: 20px; border-radius: 20px; text-align: left; border: 5px solid #990000;\">\n",
    "       2. Import the important libraries: \n",
    "    </h3>"
   ]
  },
  {
   "cell_type": "code",
   "execution_count": null,
   "id": "35d4d93c-38d5-474e-ba03-c55dc088e10e",
   "metadata": {
    "canvas": {
     "comments": [],
     "componentType": "CodeCell",
     "copiedOriginId": "e122e321-e52b-4d24-a4d4-0f64f8f1cbd7",
     "diskcache": false,
     "headerColor": "transparent",
     "id": "8a7a6dbf-a6ff-49b4-92a8-c0643f664d02",
     "isComponent": false,
     "name": "",
     "parents": []
    }
   },
   "outputs": [],
   "source": [
    "!pip install dataprep dash mlxtend"
   ]
  },
  {
   "cell_type": "code",
   "execution_count": null,
   "id": "a40e466c-53b9-4752-8ceb-0a066ffdb78d",
   "metadata": {
    "canvas": {
     "comments": [],
     "componentType": "CodeCell",
     "copiedOriginId": "66a522a5-2a5d-4929-82da-a584c241a9c6",
     "diskcache": false,
     "headerColor": "transparent",
     "id": "319a13a7-33cf-4bf5-b989-828acaab041c",
     "isComponent": false,
     "name": "",
     "parents": []
    }
   },
   "outputs": [],
   "source": [
    "!pip install streamlit dash scikit-learn tensorflow hyperopt"
   ]
  },
  {
   "cell_type": "code",
   "execution_count": null,
   "id": "b9a8787f-f7ab-4ce8-93ef-fe83c38a76a7",
   "metadata": {
    "canvas": {
     "comments": [],
     "componentType": "CodeCell",
     "copiedOriginId": "f3aa7a46-af62-4475-929f-af0cfca5c528",
     "diskcache": false,
     "headerColor": "transparent",
     "id": "a2967a02-d970-4037-9e2a-63989e1d5a4c",
     "isComponent": false,
     "name": "",
     "parents": []
    }
   },
   "outputs": [],
   "source": [
    "!pip install shap eiffel2 lime yellowbrick"
   ]
  },
  {
   "cell_type": "code",
   "execution_count": null,
   "id": "c4db6e87-ac71-4582-a187-ba95722a441e",
   "metadata": {
    "canvas": {
     "comments": [],
     "componentType": "CodeCell",
     "copiedOriginId": "42758fa2-b464-4b46-99db-0db8775e339f",
     "diskcache": false,
     "headerColor": "transparent",
     "id": "8970e73e-5a5d-49c5-a900-9d375090da72",
     "isComponent": false,
     "name": "",
     "parents": []
    }
   },
   "outputs": [],
   "source": [
    "!pip install dash dash-bootstrap-components plotly lime"
   ]
  },
  {
   "cell_type": "code",
   "execution_count": 64,
   "id": "a66d883d-37de-4c56-8a70-3f9340465b82",
   "metadata": {
    "canvas": {
     "comments": [],
     "componentType": "CodeCell",
     "copiedOriginId": "6f4e3a80-6384-4e79-82f8-de4736b6403a",
     "diskcache": false,
     "headerColor": "transparent",
     "id": "946871ff-9df1-4494-8655-87fc47023e22",
     "isComponent": false,
     "name": "",
     "parents": []
    },
    "tags": []
   },
   "outputs": [],
   "source": [
    "import numpy as np  # Library for numerical computations\n",
    "import pandas as pd  # Library for data manipulation and analysis\n",
    "import seaborn as sns  # Library for statistical data visualization\n",
    "import matplotlib.pyplot as plt  # Library for creating plots and visualizations"
   ]
  },
  {
   "cell_type": "code",
   "execution_count": 65,
   "id": "e19b7998-b04e-44d5-95b4-e85a5a73adbc",
   "metadata": {
    "canvas": {
     "comments": [],
     "componentType": "CodeCell",
     "copiedOriginId": "ac08bbc1-b30e-4cca-8782-cfd5e2aa2f86",
     "diskcache": false,
     "headerColor": "transparent",
     "id": "299223da-624f-4a0f-bc65-68ccca24f694",
     "isComponent": false,
     "name": "",
     "parents": []
    }
   },
   "outputs": [],
   "source": [
    "# Import the necessary Plotly libraries\n",
    "import plotly.graph_objects as go  # Low-level interface for creating Plotly plots\n",
    "import plotly.express as px  # Higher-level interface for creating interactive plots"
   ]
  },
  {
   "cell_type": "code",
   "execution_count": 66,
   "id": "0d913776-86f0-4ca1-abc5-800d105001a1",
   "metadata": {
    "canvas": {
     "comments": [],
     "componentType": "CodeCell",
     "copiedOriginId": "c56eba57-cdd6-4b46-8db4-b5d95ec27fb5",
     "diskcache": false,
     "headerColor": "transparent",
     "id": "f7557f03-773f-4533-928f-be1c5bfd0e56",
     "isComponent": false,
     "name": "",
     "parents": []
    }
   },
   "outputs": [],
   "source": [
    "# Import the necessary ipywidgets libraries\n",
    "import ipywidgets as widgets  # Library for creating interactive widgets\n",
    "from ipywidgets import interact, interact_manual  # Functions for creating interactive controls"
   ]
  },
  {
   "cell_type": "code",
   "execution_count": 67,
   "id": "b1c106d0-7b9e-4640-9ace-2b09a1d4b5a6",
   "metadata": {
    "canvas": {
     "comments": [],
     "componentType": "CodeCell",
     "copiedOriginId": "8faf7c31-5da8-4423-a505-dba2bd77058c",
     "diskcache": false,
     "headerColor": "transparent",
     "id": "26ff491c-0015-409b-b69f-8098b23ec8aa",
     "isComponent": false,
     "name": "",
     "parents": []
    }
   },
   "outputs": [],
   "source": [
    "from dataprep.eda import *\n",
    "from dataprep.datasets import load_dataset\n",
    "from dataprep.eda import plot, plot_correlation, plot_missing, plot_diff, create_report"
   ]
  },
  {
   "cell_type": "code",
   "execution_count": 5,
   "id": "8c075ee6-04c1-40d3-b6fe-de0779628fde",
   "metadata": {
    "canvas": {
     "comments": [],
     "componentType": "CodeCell",
     "copiedOriginId": "54f31ea0-f182-45e0-bc03-3c73e1c8b15b",
     "diskcache": false,
     "headerColor": "transparent",
     "id": "db52e601-17b1-4d66-ba57-a3fb2f7bd9ff",
     "isComponent": false,
     "name": "",
     "parents": []
    }
   },
   "outputs": [],
   "source": [
    "import warnings\n",
    "warnings.filterwarnings('ignore')"
   ]
  },
  {
   "cell_type": "markdown",
   "id": "67914df3-b7ed-47b0-ba70-5b0fd79327ba",
   "metadata": {
    "canvas": {
     "comments": [],
     "componentType": "CodeCell",
     "copiedOriginId": "e3a96648-d925-4751-8556-a06c8bdc06e2",
     "diskcache": false,
     "headerColor": "transparent",
     "id": "df994390-a785-4207-a4d3-8189412134b2",
     "isComponent": false,
     "name": "",
     "parents": []
    },
    "tags": []
   },
   "source": [
    "###  \n",
    "<h3 id=\"import\" style=\"color: #a4edb8 ; background: #000000; padding: 20px; border-radius: 20px; text-align: left; border: 5px solid #990000;\">\n",
    "        3. load the dataset & start discovering\n",
    "    </h3>"
   ]
  },
  {
   "cell_type": "code",
   "execution_count": 75,
   "id": "acd0d948-c0c1-403c-bd48-1415628a4179",
   "metadata": {
    "canvas": {
     "comments": [],
     "componentType": "CodeCell",
     "copiedOriginId": "862d9c21-4ab7-452f-bb15-f7ded2ac8b5f",
     "diskcache": false,
     "headerColor": "transparent",
     "id": "a3fe37be-419e-497a-b09a-b0779fc0d165",
     "isComponent": false,
     "name": "",
     "parents": []
    }
   },
   "outputs": [],
   "source": [
    "df = pd.read_csv(r'C:\\Users\\User\\Desktop\\GitHub-projects\\projects\\Data-Dives-Projects-Unleashed\\dataSets\\1.Hotel Reservations_kaggle.csv')"
   ]
  },
  {
   "cell_type": "code",
   "execution_count": 76,
   "id": "c0a1537c-bf4e-44ab-b2c3-4cc87c569ad3",
   "metadata": {
    "canvas": {
     "comments": [],
     "componentType": "CodeCell",
     "copiedOriginId": "36ba1eac-38ee-4c7b-aade-75e4ee7a2622",
     "diskcache": false,
     "headerColor": "transparent",
     "id": "550ffe7c-ebb4-4e9b-b0a0-5b8c9b78cd50",
     "isComponent": false,
     "name": "",
     "parents": []
    }
   },
   "outputs": [],
   "source": [
    "# Load the Hotel Reservation dataset from Kaggle\n",
    "# Replace 'hotel_reservation_data.csv' with the actual filename and path if needed\n",
    "file_path = r'C:\\Users\\User\\Desktop\\GitHub-projects\\projects\\Data-Dives-Projects-Unleashed\\dataSets\\1.Hotel Reservations_kaggle.csv'\n",
    "df_hotel_reservation = pd.read_csv(file_path)"
   ]
  },
  {
   "cell_type": "code",
   "execution_count": 77,
   "id": "5831d14e-8335-4656-8d46-c3afb84c9cec",
   "metadata": {
    "canvas": {
     "comments": [],
     "componentType": "CodeCell",
     "copiedOriginId": "db4f8b79-4914-4815-9365-eb32ce1d07c7",
     "diskcache": false,
     "headerColor": "transparent",
     "id": "67d06051-bc87-4361-8429-b8e53780d623",
     "isComponent": false,
     "name": "",
     "parents": []
    }
   },
   "outputs": [
    {
     "data": {
      "text/html": [
       "<div>\n",
       "<style scoped>\n",
       "    .dataframe tbody tr th:only-of-type {\n",
       "        vertical-align: middle;\n",
       "    }\n",
       "\n",
       "    .dataframe tbody tr th {\n",
       "        vertical-align: top;\n",
       "    }\n",
       "\n",
       "    .dataframe thead th {\n",
       "        text-align: right;\n",
       "    }\n",
       "</style>\n",
       "<table border=\"1\" class=\"dataframe\">\n",
       "  <thead>\n",
       "    <tr style=\"text-align: right;\">\n",
       "      <th></th>\n",
       "      <th>Booking_ID</th>\n",
       "      <th>no_of_adults</th>\n",
       "      <th>no_of_children</th>\n",
       "      <th>no_of_weekend_nights</th>\n",
       "      <th>no_of_week_nights</th>\n",
       "      <th>type_of_meal_plan</th>\n",
       "      <th>required_car_parking_space</th>\n",
       "      <th>room_type_reserved</th>\n",
       "      <th>lead_time</th>\n",
       "      <th>arrival_year</th>\n",
       "      <th>arrival_month</th>\n",
       "      <th>arrival_date</th>\n",
       "      <th>market_segment_type</th>\n",
       "      <th>repeated_guest</th>\n",
       "      <th>no_of_previous_cancellations</th>\n",
       "      <th>no_of_previous_bookings_not_canceled</th>\n",
       "      <th>avg_price_per_room</th>\n",
       "      <th>no_of_special_requests</th>\n",
       "      <th>booking_status</th>\n",
       "    </tr>\n",
       "  </thead>\n",
       "  <tbody>\n",
       "    <tr>\n",
       "      <th>0</th>\n",
       "      <td>INN00001</td>\n",
       "      <td>2</td>\n",
       "      <td>0</td>\n",
       "      <td>1</td>\n",
       "      <td>2</td>\n",
       "      <td>Meal Plan 1</td>\n",
       "      <td>0</td>\n",
       "      <td>Room_Type 1</td>\n",
       "      <td>224</td>\n",
       "      <td>2017</td>\n",
       "      <td>10</td>\n",
       "      <td>2</td>\n",
       "      <td>Offline</td>\n",
       "      <td>0</td>\n",
       "      <td>0</td>\n",
       "      <td>0</td>\n",
       "      <td>65.00</td>\n",
       "      <td>0</td>\n",
       "      <td>Not_Canceled</td>\n",
       "    </tr>\n",
       "    <tr>\n",
       "      <th>1</th>\n",
       "      <td>INN00002</td>\n",
       "      <td>2</td>\n",
       "      <td>0</td>\n",
       "      <td>2</td>\n",
       "      <td>3</td>\n",
       "      <td>Not Selected</td>\n",
       "      <td>0</td>\n",
       "      <td>Room_Type 1</td>\n",
       "      <td>5</td>\n",
       "      <td>2018</td>\n",
       "      <td>11</td>\n",
       "      <td>6</td>\n",
       "      <td>Online</td>\n",
       "      <td>0</td>\n",
       "      <td>0</td>\n",
       "      <td>0</td>\n",
       "      <td>106.68</td>\n",
       "      <td>1</td>\n",
       "      <td>Not_Canceled</td>\n",
       "    </tr>\n",
       "    <tr>\n",
       "      <th>2</th>\n",
       "      <td>INN00003</td>\n",
       "      <td>1</td>\n",
       "      <td>0</td>\n",
       "      <td>2</td>\n",
       "      <td>1</td>\n",
       "      <td>Meal Plan 1</td>\n",
       "      <td>0</td>\n",
       "      <td>Room_Type 1</td>\n",
       "      <td>1</td>\n",
       "      <td>2018</td>\n",
       "      <td>2</td>\n",
       "      <td>28</td>\n",
       "      <td>Online</td>\n",
       "      <td>0</td>\n",
       "      <td>0</td>\n",
       "      <td>0</td>\n",
       "      <td>60.00</td>\n",
       "      <td>0</td>\n",
       "      <td>Canceled</td>\n",
       "    </tr>\n",
       "    <tr>\n",
       "      <th>3</th>\n",
       "      <td>INN00004</td>\n",
       "      <td>2</td>\n",
       "      <td>0</td>\n",
       "      <td>0</td>\n",
       "      <td>2</td>\n",
       "      <td>Meal Plan 1</td>\n",
       "      <td>0</td>\n",
       "      <td>Room_Type 1</td>\n",
       "      <td>211</td>\n",
       "      <td>2018</td>\n",
       "      <td>5</td>\n",
       "      <td>20</td>\n",
       "      <td>Online</td>\n",
       "      <td>0</td>\n",
       "      <td>0</td>\n",
       "      <td>0</td>\n",
       "      <td>100.00</td>\n",
       "      <td>0</td>\n",
       "      <td>Canceled</td>\n",
       "    </tr>\n",
       "    <tr>\n",
       "      <th>4</th>\n",
       "      <td>INN00005</td>\n",
       "      <td>2</td>\n",
       "      <td>0</td>\n",
       "      <td>1</td>\n",
       "      <td>1</td>\n",
       "      <td>Not Selected</td>\n",
       "      <td>0</td>\n",
       "      <td>Room_Type 1</td>\n",
       "      <td>48</td>\n",
       "      <td>2018</td>\n",
       "      <td>4</td>\n",
       "      <td>11</td>\n",
       "      <td>Online</td>\n",
       "      <td>0</td>\n",
       "      <td>0</td>\n",
       "      <td>0</td>\n",
       "      <td>94.50</td>\n",
       "      <td>0</td>\n",
       "      <td>Canceled</td>\n",
       "    </tr>\n",
       "    <tr>\n",
       "      <th>...</th>\n",
       "      <td>...</td>\n",
       "      <td>...</td>\n",
       "      <td>...</td>\n",
       "      <td>...</td>\n",
       "      <td>...</td>\n",
       "      <td>...</td>\n",
       "      <td>...</td>\n",
       "      <td>...</td>\n",
       "      <td>...</td>\n",
       "      <td>...</td>\n",
       "      <td>...</td>\n",
       "      <td>...</td>\n",
       "      <td>...</td>\n",
       "      <td>...</td>\n",
       "      <td>...</td>\n",
       "      <td>...</td>\n",
       "      <td>...</td>\n",
       "      <td>...</td>\n",
       "      <td>...</td>\n",
       "    </tr>\n",
       "    <tr>\n",
       "      <th>36270</th>\n",
       "      <td>INN36271</td>\n",
       "      <td>3</td>\n",
       "      <td>0</td>\n",
       "      <td>2</td>\n",
       "      <td>6</td>\n",
       "      <td>Meal Plan 1</td>\n",
       "      <td>0</td>\n",
       "      <td>Room_Type 4</td>\n",
       "      <td>85</td>\n",
       "      <td>2018</td>\n",
       "      <td>8</td>\n",
       "      <td>3</td>\n",
       "      <td>Online</td>\n",
       "      <td>0</td>\n",
       "      <td>0</td>\n",
       "      <td>0</td>\n",
       "      <td>167.80</td>\n",
       "      <td>1</td>\n",
       "      <td>Not_Canceled</td>\n",
       "    </tr>\n",
       "    <tr>\n",
       "      <th>36271</th>\n",
       "      <td>INN36272</td>\n",
       "      <td>2</td>\n",
       "      <td>0</td>\n",
       "      <td>1</td>\n",
       "      <td>3</td>\n",
       "      <td>Meal Plan 1</td>\n",
       "      <td>0</td>\n",
       "      <td>Room_Type 1</td>\n",
       "      <td>228</td>\n",
       "      <td>2018</td>\n",
       "      <td>10</td>\n",
       "      <td>17</td>\n",
       "      <td>Online</td>\n",
       "      <td>0</td>\n",
       "      <td>0</td>\n",
       "      <td>0</td>\n",
       "      <td>90.95</td>\n",
       "      <td>2</td>\n",
       "      <td>Canceled</td>\n",
       "    </tr>\n",
       "    <tr>\n",
       "      <th>36272</th>\n",
       "      <td>INN36273</td>\n",
       "      <td>2</td>\n",
       "      <td>0</td>\n",
       "      <td>2</td>\n",
       "      <td>6</td>\n",
       "      <td>Meal Plan 1</td>\n",
       "      <td>0</td>\n",
       "      <td>Room_Type 1</td>\n",
       "      <td>148</td>\n",
       "      <td>2018</td>\n",
       "      <td>7</td>\n",
       "      <td>1</td>\n",
       "      <td>Online</td>\n",
       "      <td>0</td>\n",
       "      <td>0</td>\n",
       "      <td>0</td>\n",
       "      <td>98.39</td>\n",
       "      <td>2</td>\n",
       "      <td>Not_Canceled</td>\n",
       "    </tr>\n",
       "    <tr>\n",
       "      <th>36273</th>\n",
       "      <td>INN36274</td>\n",
       "      <td>2</td>\n",
       "      <td>0</td>\n",
       "      <td>0</td>\n",
       "      <td>3</td>\n",
       "      <td>Not Selected</td>\n",
       "      <td>0</td>\n",
       "      <td>Room_Type 1</td>\n",
       "      <td>63</td>\n",
       "      <td>2018</td>\n",
       "      <td>4</td>\n",
       "      <td>21</td>\n",
       "      <td>Online</td>\n",
       "      <td>0</td>\n",
       "      <td>0</td>\n",
       "      <td>0</td>\n",
       "      <td>94.50</td>\n",
       "      <td>0</td>\n",
       "      <td>Canceled</td>\n",
       "    </tr>\n",
       "    <tr>\n",
       "      <th>36274</th>\n",
       "      <td>INN36275</td>\n",
       "      <td>2</td>\n",
       "      <td>0</td>\n",
       "      <td>1</td>\n",
       "      <td>2</td>\n",
       "      <td>Meal Plan 1</td>\n",
       "      <td>0</td>\n",
       "      <td>Room_Type 1</td>\n",
       "      <td>207</td>\n",
       "      <td>2018</td>\n",
       "      <td>12</td>\n",
       "      <td>30</td>\n",
       "      <td>Offline</td>\n",
       "      <td>0</td>\n",
       "      <td>0</td>\n",
       "      <td>0</td>\n",
       "      <td>161.67</td>\n",
       "      <td>0</td>\n",
       "      <td>Not_Canceled</td>\n",
       "    </tr>\n",
       "  </tbody>\n",
       "</table>\n",
       "<p>36275 rows × 19 columns</p>\n",
       "</div>"
      ],
      "text/plain": [
       "      Booking_ID  no_of_adults  no_of_children  no_of_weekend_nights  \\\n",
       "0       INN00001             2               0                     1   \n",
       "1       INN00002             2               0                     2   \n",
       "2       INN00003             1               0                     2   \n",
       "3       INN00004             2               0                     0   \n",
       "4       INN00005             2               0                     1   \n",
       "...          ...           ...             ...                   ...   \n",
       "36270   INN36271             3               0                     2   \n",
       "36271   INN36272             2               0                     1   \n",
       "36272   INN36273             2               0                     2   \n",
       "36273   INN36274             2               0                     0   \n",
       "36274   INN36275             2               0                     1   \n",
       "\n",
       "       no_of_week_nights type_of_meal_plan  required_car_parking_space  \\\n",
       "0                      2       Meal Plan 1                           0   \n",
       "1                      3      Not Selected                           0   \n",
       "2                      1       Meal Plan 1                           0   \n",
       "3                      2       Meal Plan 1                           0   \n",
       "4                      1      Not Selected                           0   \n",
       "...                  ...               ...                         ...   \n",
       "36270                  6       Meal Plan 1                           0   \n",
       "36271                  3       Meal Plan 1                           0   \n",
       "36272                  6       Meal Plan 1                           0   \n",
       "36273                  3      Not Selected                           0   \n",
       "36274                  2       Meal Plan 1                           0   \n",
       "\n",
       "      room_type_reserved  lead_time  arrival_year  arrival_month  \\\n",
       "0            Room_Type 1        224          2017             10   \n",
       "1            Room_Type 1          5          2018             11   \n",
       "2            Room_Type 1          1          2018              2   \n",
       "3            Room_Type 1        211          2018              5   \n",
       "4            Room_Type 1         48          2018              4   \n",
       "...                  ...        ...           ...            ...   \n",
       "36270        Room_Type 4         85          2018              8   \n",
       "36271        Room_Type 1        228          2018             10   \n",
       "36272        Room_Type 1        148          2018              7   \n",
       "36273        Room_Type 1         63          2018              4   \n",
       "36274        Room_Type 1        207          2018             12   \n",
       "\n",
       "       arrival_date market_segment_type  repeated_guest  \\\n",
       "0                 2             Offline               0   \n",
       "1                 6              Online               0   \n",
       "2                28              Online               0   \n",
       "3                20              Online               0   \n",
       "4                11              Online               0   \n",
       "...             ...                 ...             ...   \n",
       "36270             3              Online               0   \n",
       "36271            17              Online               0   \n",
       "36272             1              Online               0   \n",
       "36273            21              Online               0   \n",
       "36274            30             Offline               0   \n",
       "\n",
       "       no_of_previous_cancellations  no_of_previous_bookings_not_canceled  \\\n",
       "0                                 0                                     0   \n",
       "1                                 0                                     0   \n",
       "2                                 0                                     0   \n",
       "3                                 0                                     0   \n",
       "4                                 0                                     0   \n",
       "...                             ...                                   ...   \n",
       "36270                             0                                     0   \n",
       "36271                             0                                     0   \n",
       "36272                             0                                     0   \n",
       "36273                             0                                     0   \n",
       "36274                             0                                     0   \n",
       "\n",
       "       avg_price_per_room  no_of_special_requests booking_status  \n",
       "0                   65.00                       0   Not_Canceled  \n",
       "1                  106.68                       1   Not_Canceled  \n",
       "2                   60.00                       0       Canceled  \n",
       "3                  100.00                       0       Canceled  \n",
       "4                   94.50                       0       Canceled  \n",
       "...                   ...                     ...            ...  \n",
       "36270              167.80                       1   Not_Canceled  \n",
       "36271               90.95                       2       Canceled  \n",
       "36272               98.39                       2   Not_Canceled  \n",
       "36273               94.50                       0       Canceled  \n",
       "36274              161.67                       0   Not_Canceled  \n",
       "\n",
       "[36275 rows x 19 columns]"
      ]
     },
     "execution_count": 77,
     "metadata": {},
     "output_type": "execute_result"
    }
   ],
   "source": [
    "# Display the first few rows of the dataset\n",
    "df_hotel_reservation"
   ]
  },
  {
   "cell_type": "code",
   "execution_count": 78,
   "id": "5e381dea-a299-4d26-b51e-fe7ed4872cd0",
   "metadata": {
    "canvas": {
     "comments": [],
     "componentType": "CodeCell",
     "copiedOriginId": "390e3189-82b2-4d1e-bf3b-81e35cc4e2e0",
     "diskcache": false,
     "headerColor": "transparent",
     "id": "c2424611-d2d9-47c9-aa43-6b75855aa333",
     "isComponent": false,
     "name": "",
     "parents": []
    }
   },
   "outputs": [
    {
     "data": {
      "text/plain": [
       "(36275, 19)"
      ]
     },
     "execution_count": 78,
     "metadata": {},
     "output_type": "execute_result"
    }
   ],
   "source": [
    "# number of rows and columns in the red wine dataset\n",
    "df_hotel_reservation.shape"
   ]
  },
  {
   "cell_type": "code",
   "execution_count": 79,
   "id": "cdd839a0-1648-4c5c-bed0-93d4557877ff",
   "metadata": {
    "canvas": {
     "comments": [],
     "componentType": "CodeCell",
     "copiedOriginId": "bb085a6e-0bc2-4d39-8107-223513ddd798",
     "diskcache": false,
     "headerColor": "transparent",
     "id": "0891d649-6d70-454c-9196-d8e277d2a652",
     "isComponent": false,
     "name": "",
     "parents": []
    }
   },
   "outputs": [
    {
     "name": "stdout",
     "output_type": "stream",
     "text": [
      "<class 'pandas.core.frame.DataFrame'>\n",
      "RangeIndex: 36275 entries, 0 to 36274\n",
      "Data columns (total 19 columns):\n",
      " #   Column                                Non-Null Count  Dtype  \n",
      "---  ------                                --------------  -----  \n",
      " 0   Booking_ID                            36275 non-null  object \n",
      " 1   no_of_adults                          36275 non-null  int64  \n",
      " 2   no_of_children                        36275 non-null  int64  \n",
      " 3   no_of_weekend_nights                  36275 non-null  int64  \n",
      " 4   no_of_week_nights                     36275 non-null  int64  \n",
      " 5   type_of_meal_plan                     36275 non-null  object \n",
      " 6   required_car_parking_space            36275 non-null  int64  \n",
      " 7   room_type_reserved                    36275 non-null  object \n",
      " 8   lead_time                             36275 non-null  int64  \n",
      " 9   arrival_year                          36275 non-null  int64  \n",
      " 10  arrival_month                         36275 non-null  int64  \n",
      " 11  arrival_date                          36275 non-null  int64  \n",
      " 12  market_segment_type                   36275 non-null  object \n",
      " 13  repeated_guest                        36275 non-null  int64  \n",
      " 14  no_of_previous_cancellations          36275 non-null  int64  \n",
      " 15  no_of_previous_bookings_not_canceled  36275 non-null  int64  \n",
      " 16  avg_price_per_room                    36275 non-null  float64\n",
      " 17  no_of_special_requests                36275 non-null  int64  \n",
      " 18  booking_status                        36275 non-null  object \n",
      "dtypes: float64(1), int64(13), object(5)\n",
      "memory usage: 5.3+ MB\n",
      "\n",
      "-----------------------------------------------------------------\n"
     ]
    },
    {
     "data": {
      "text/plain": [
       "Booking_ID                              0\n",
       "no_of_adults                            0\n",
       "no_of_children                          0\n",
       "no_of_weekend_nights                    0\n",
       "no_of_week_nights                       0\n",
       "type_of_meal_plan                       0\n",
       "required_car_parking_space              0\n",
       "room_type_reserved                      0\n",
       "lead_time                               0\n",
       "arrival_year                            0\n",
       "arrival_month                           0\n",
       "arrival_date                            0\n",
       "market_segment_type                     0\n",
       "repeated_guest                          0\n",
       "no_of_previous_cancellations            0\n",
       "no_of_previous_bookings_not_canceled    0\n",
       "avg_price_per_room                      0\n",
       "no_of_special_requests                  0\n",
       "booking_status                          0\n",
       "dtype: int64"
      ]
     },
     "execution_count": 79,
     "metadata": {},
     "output_type": "execute_result"
    }
   ],
   "source": [
    "# Display basic information about the loaded dataset\n",
    "df_hotel_reservation.info()\n",
    "print()\n",
    "print(\"-\"*65)\n",
    "df_hotel_reservation.isna().sum()"
   ]
  },
  {
   "cell_type": "markdown",
   "id": "691d041b-f9c1-47b6-aa8c-630d6781d152",
   "metadata": {
    "canvas": {
     "comments": [],
     "componentType": "CodeCell",
     "copiedOriginId": "83015f03-197b-4a31-be39-7da395a82c92",
     "diskcache": false,
     "headerColor": "transparent",
     "id": "12e3065b-010a-4583-97b9-9ab8466ca77b",
     "isComponent": false,
     "name": "",
     "parents": []
    }
   },
   "source": [
    "**During data exploration**, it was verified that the dataset doesn't contain any missing values. Therefore, no additional handling for missing values is required. "
   ]
  },
  {
   "cell_type": "code",
   "execution_count": 80,
   "id": "67cb7c73-85de-48c7-bb98-ee11251825f0",
   "metadata": {
    "canvas": {
     "comments": [],
     "componentType": "CodeCell",
     "copiedOriginId": "94573b7e-8280-4635-9d55-99bc57218600",
     "diskcache": false,
     "headerColor": "transparent",
     "id": "b890817a-4491-4737-be2d-03122f286655",
     "isComponent": false,
     "name": "",
     "parents": []
    }
   },
   "outputs": [],
   "source": [
    "df_hotel_reservation.drop('Booking_ID', axis=1, inplace=True)"
   ]
  },
  {
   "cell_type": "code",
   "execution_count": 81,
   "id": "15359f43-f6f2-4ab0-a102-83bae8ede249",
   "metadata": {
    "canvas": {
     "comments": [],
     "componentType": "CodeCell",
     "copiedOriginId": "d4326a91-3bfe-445d-9072-182988fb1404",
     "diskcache": false,
     "headerColor": "transparent",
     "id": "aa62291e-7572-4109-847d-dc491910a53e",
     "isComponent": false,
     "name": "",
     "parents": []
    }
   },
   "outputs": [],
   "source": [
    "df.drop('Booking_ID', axis=1, inplace=True)"
   ]
  },
  {
   "cell_type": "markdown",
   "id": "5d4043fe-568e-4ce8-928d-c0a5ce23d311",
   "metadata": {
    "canvas": {
     "comments": [],
     "componentType": "CodeCell",
     "copiedOriginId": "8f722d8b-e130-410f-bcb7-c4ec077f3a60",
     "diskcache": false,
     "headerColor": "transparent",
     "id": "5859e046-9063-47c9-82cf-ea07883c8a07",
     "isComponent": false,
     "name": "",
     "parents": []
    },
    "tags": []
   },
   "source": [
    "#### Descriptive Statistics\n",
    "\n",
    "Descriptive statistics provide insights into the distribution and central tendencies of numerical values within the dataset. Our objective is to examine the statistical characteristics of the dataset's features. To accomplish this, we can leverage the `describe()` method available in Pandas. It calculates summary statistics while disregarding missing observations. It is important to note that the `describe()` method exclusively considers numerical variables and does not account for categorical (non-numerical) variables."
   ]
  },
  {
   "cell_type": "code",
   "execution_count": 82,
   "id": "248a9c1d-1266-46fc-9c7d-609e3cae98b7",
   "metadata": {
    "canvas": {
     "comments": [],
     "componentType": "CodeCell",
     "copiedOriginId": "0eabe396-807d-4ed0-8f1f-ee278e98da6a",
     "diskcache": false,
     "headerColor": "transparent",
     "id": "217e75b9-94e7-44a9-b140-b2e2c8ae8afe",
     "isComponent": false,
     "name": "",
     "parents": []
    }
   },
   "outputs": [
    {
     "data": {
      "text/html": [
       "<style type=\"text/css\">\n",
       "#T_21ea3_row0_col0, #T_21ea3_row0_col1, #T_21ea3_row0_col3, #T_21ea3_row0_col4, #T_21ea3_row0_col5, #T_21ea3_row0_col6, #T_21ea3_row0_col7, #T_21ea3_row1_col0, #T_21ea3_row1_col1, #T_21ea3_row1_col2, #T_21ea3_row1_col3, #T_21ea3_row1_col4, #T_21ea3_row1_col5, #T_21ea3_row1_col6, #T_21ea3_row2_col0, #T_21ea3_row2_col1, #T_21ea3_row2_col3, #T_21ea3_row2_col4, #T_21ea3_row2_col5, #T_21ea3_row2_col6, #T_21ea3_row2_col7, #T_21ea3_row3_col0, #T_21ea3_row3_col1, #T_21ea3_row3_col3, #T_21ea3_row3_col4, #T_21ea3_row3_col5, #T_21ea3_row3_col6, #T_21ea3_row4_col0, #T_21ea3_row4_col1, #T_21ea3_row4_col2, #T_21ea3_row4_col3, #T_21ea3_row4_col4, #T_21ea3_row4_col5, #T_21ea3_row4_col6, #T_21ea3_row4_col7, #T_21ea3_row5_col0, #T_21ea3_row5_col3, #T_21ea3_row6_col0, #T_21ea3_row6_col2, #T_21ea3_row7_col0, #T_21ea3_row7_col1, #T_21ea3_row7_col3, #T_21ea3_row7_col4, #T_21ea3_row8_col0, #T_21ea3_row8_col3, #T_21ea3_row9_col0, #T_21ea3_row9_col1, #T_21ea3_row9_col2, #T_21ea3_row9_col3, #T_21ea3_row9_col4, #T_21ea3_row9_col5, #T_21ea3_row9_col6, #T_21ea3_row9_col7, #T_21ea3_row10_col0, #T_21ea3_row10_col1, #T_21ea3_row10_col2, #T_21ea3_row10_col3, #T_21ea3_row10_col4, #T_21ea3_row10_col5, #T_21ea3_row10_col6, #T_21ea3_row11_col0, #T_21ea3_row11_col1, #T_21ea3_row11_col3, #T_21ea3_row11_col4, #T_21ea3_row11_col5, #T_21ea3_row11_col6, #T_21ea3_row12_col0, #T_21ea3_row12_col3, #T_21ea3_row13_col0, #T_21ea3_row13_col1, #T_21ea3_row13_col3, #T_21ea3_row13_col4, #T_21ea3_row13_col5, #T_21ea3_row13_col6, #T_21ea3_row13_col7 {\n",
       "  background-color: #fff7fb;\n",
       "  color: #000000;\n",
       "}\n",
       "#T_21ea3_row0_col2, #T_21ea3_row1_col7, #T_21ea3_row7_col5, #T_21ea3_row7_col6, #T_21ea3_row7_col7, #T_21ea3_row8_col1, #T_21ea3_row8_col4, #T_21ea3_row10_col7, #T_21ea3_row13_col2 {\n",
       "  background-color: #fef6fb;\n",
       "  color: #000000;\n",
       "}\n",
       "#T_21ea3_row2_col2, #T_21ea3_row3_col7, #T_21ea3_row5_col4, #T_21ea3_row8_col5, #T_21ea3_row8_col6 {\n",
       "  background-color: #fef6fa;\n",
       "  color: #000000;\n",
       "}\n",
       "#T_21ea3_row3_col2, #T_21ea3_row8_col7, #T_21ea3_row11_col2 {\n",
       "  background-color: #fdf5fa;\n",
       "  color: #000000;\n",
       "}\n",
       "#T_21ea3_row5_col1, #T_21ea3_row12_col4 {\n",
       "  background-color: #f9f2f8;\n",
       "  color: #000000;\n",
       "}\n",
       "#T_21ea3_row5_col2, #T_21ea3_row6_col1, #T_21ea3_row6_col3, #T_21ea3_row6_col4, #T_21ea3_row6_col5, #T_21ea3_row6_col6, #T_21ea3_row6_col7 {\n",
       "  background-color: #023858;\n",
       "  color: #f1f1f1;\n",
       "}\n",
       "#T_21ea3_row5_col5, #T_21ea3_row11_col7 {\n",
       "  background-color: #fbf3f9;\n",
       "  color: #000000;\n",
       "}\n",
       "#T_21ea3_row5_col6, #T_21ea3_row12_col6 {\n",
       "  background-color: #f6eff7;\n",
       "  color: #000000;\n",
       "}\n",
       "#T_21ea3_row5_col7 {\n",
       "  background-color: #d7d6e9;\n",
       "  color: #000000;\n",
       "}\n",
       "#T_21ea3_row7_col2 {\n",
       "  background-color: #faf3f9;\n",
       "  color: #000000;\n",
       "}\n",
       "#T_21ea3_row8_col2 {\n",
       "  background-color: #f0eaf4;\n",
       "  color: #000000;\n",
       "}\n",
       "#T_21ea3_row12_col1 {\n",
       "  background-color: #f7f0f7;\n",
       "  color: #000000;\n",
       "}\n",
       "#T_21ea3_row12_col2 {\n",
       "  background-color: #99b8d8;\n",
       "  color: #000000;\n",
       "}\n",
       "#T_21ea3_row12_col5 {\n",
       "  background-color: #f8f1f8;\n",
       "  color: #000000;\n",
       "}\n",
       "#T_21ea3_row12_col7 {\n",
       "  background-color: #cacee5;\n",
       "  color: #000000;\n",
       "}\n",
       "</style>\n",
       "<table id=\"T_21ea3\">\n",
       "  <thead>\n",
       "    <tr>\n",
       "      <th class=\"blank level0\" >&nbsp;</th>\n",
       "      <th id=\"T_21ea3_level0_col0\" class=\"col_heading level0 col0\" >count</th>\n",
       "      <th id=\"T_21ea3_level0_col1\" class=\"col_heading level0 col1\" >mean</th>\n",
       "      <th id=\"T_21ea3_level0_col2\" class=\"col_heading level0 col2\" >std</th>\n",
       "      <th id=\"T_21ea3_level0_col3\" class=\"col_heading level0 col3\" >min</th>\n",
       "      <th id=\"T_21ea3_level0_col4\" class=\"col_heading level0 col4\" >25%</th>\n",
       "      <th id=\"T_21ea3_level0_col5\" class=\"col_heading level0 col5\" >50%</th>\n",
       "      <th id=\"T_21ea3_level0_col6\" class=\"col_heading level0 col6\" >75%</th>\n",
       "      <th id=\"T_21ea3_level0_col7\" class=\"col_heading level0 col7\" >max</th>\n",
       "    </tr>\n",
       "  </thead>\n",
       "  <tbody>\n",
       "    <tr>\n",
       "      <th id=\"T_21ea3_level0_row0\" class=\"row_heading level0 row0\" >no_of_adults</th>\n",
       "      <td id=\"T_21ea3_row0_col0\" class=\"data row0 col0\" >36275.000000</td>\n",
       "      <td id=\"T_21ea3_row0_col1\" class=\"data row0 col1\" >1.844962</td>\n",
       "      <td id=\"T_21ea3_row0_col2\" class=\"data row0 col2\" >0.518715</td>\n",
       "      <td id=\"T_21ea3_row0_col3\" class=\"data row0 col3\" >0.000000</td>\n",
       "      <td id=\"T_21ea3_row0_col4\" class=\"data row0 col4\" >2.000000</td>\n",
       "      <td id=\"T_21ea3_row0_col5\" class=\"data row0 col5\" >2.000000</td>\n",
       "      <td id=\"T_21ea3_row0_col6\" class=\"data row0 col6\" >2.000000</td>\n",
       "      <td id=\"T_21ea3_row0_col7\" class=\"data row0 col7\" >4.000000</td>\n",
       "    </tr>\n",
       "    <tr>\n",
       "      <th id=\"T_21ea3_level0_row1\" class=\"row_heading level0 row1\" >no_of_children</th>\n",
       "      <td id=\"T_21ea3_row1_col0\" class=\"data row1 col0\" >36275.000000</td>\n",
       "      <td id=\"T_21ea3_row1_col1\" class=\"data row1 col1\" >0.105279</td>\n",
       "      <td id=\"T_21ea3_row1_col2\" class=\"data row1 col2\" >0.402648</td>\n",
       "      <td id=\"T_21ea3_row1_col3\" class=\"data row1 col3\" >0.000000</td>\n",
       "      <td id=\"T_21ea3_row1_col4\" class=\"data row1 col4\" >0.000000</td>\n",
       "      <td id=\"T_21ea3_row1_col5\" class=\"data row1 col5\" >0.000000</td>\n",
       "      <td id=\"T_21ea3_row1_col6\" class=\"data row1 col6\" >0.000000</td>\n",
       "      <td id=\"T_21ea3_row1_col7\" class=\"data row1 col7\" >10.000000</td>\n",
       "    </tr>\n",
       "    <tr>\n",
       "      <th id=\"T_21ea3_level0_row2\" class=\"row_heading level0 row2\" >no_of_weekend_nights</th>\n",
       "      <td id=\"T_21ea3_row2_col0\" class=\"data row2 col0\" >36275.000000</td>\n",
       "      <td id=\"T_21ea3_row2_col1\" class=\"data row2 col1\" >0.810724</td>\n",
       "      <td id=\"T_21ea3_row2_col2\" class=\"data row2 col2\" >0.870644</td>\n",
       "      <td id=\"T_21ea3_row2_col3\" class=\"data row2 col3\" >0.000000</td>\n",
       "      <td id=\"T_21ea3_row2_col4\" class=\"data row2 col4\" >0.000000</td>\n",
       "      <td id=\"T_21ea3_row2_col5\" class=\"data row2 col5\" >1.000000</td>\n",
       "      <td id=\"T_21ea3_row2_col6\" class=\"data row2 col6\" >2.000000</td>\n",
       "      <td id=\"T_21ea3_row2_col7\" class=\"data row2 col7\" >7.000000</td>\n",
       "    </tr>\n",
       "    <tr>\n",
       "      <th id=\"T_21ea3_level0_row3\" class=\"row_heading level0 row3\" >no_of_week_nights</th>\n",
       "      <td id=\"T_21ea3_row3_col0\" class=\"data row3 col0\" >36275.000000</td>\n",
       "      <td id=\"T_21ea3_row3_col1\" class=\"data row3 col1\" >2.204300</td>\n",
       "      <td id=\"T_21ea3_row3_col2\" class=\"data row3 col2\" >1.410905</td>\n",
       "      <td id=\"T_21ea3_row3_col3\" class=\"data row3 col3\" >0.000000</td>\n",
       "      <td id=\"T_21ea3_row3_col4\" class=\"data row3 col4\" >1.000000</td>\n",
       "      <td id=\"T_21ea3_row3_col5\" class=\"data row3 col5\" >2.000000</td>\n",
       "      <td id=\"T_21ea3_row3_col6\" class=\"data row3 col6\" >3.000000</td>\n",
       "      <td id=\"T_21ea3_row3_col7\" class=\"data row3 col7\" >17.000000</td>\n",
       "    </tr>\n",
       "    <tr>\n",
       "      <th id=\"T_21ea3_level0_row4\" class=\"row_heading level0 row4\" >required_car_parking_space</th>\n",
       "      <td id=\"T_21ea3_row4_col0\" class=\"data row4 col0\" >36275.000000</td>\n",
       "      <td id=\"T_21ea3_row4_col1\" class=\"data row4 col1\" >0.030986</td>\n",
       "      <td id=\"T_21ea3_row4_col2\" class=\"data row4 col2\" >0.173281</td>\n",
       "      <td id=\"T_21ea3_row4_col3\" class=\"data row4 col3\" >0.000000</td>\n",
       "      <td id=\"T_21ea3_row4_col4\" class=\"data row4 col4\" >0.000000</td>\n",
       "      <td id=\"T_21ea3_row4_col5\" class=\"data row4 col5\" >0.000000</td>\n",
       "      <td id=\"T_21ea3_row4_col6\" class=\"data row4 col6\" >0.000000</td>\n",
       "      <td id=\"T_21ea3_row4_col7\" class=\"data row4 col7\" >1.000000</td>\n",
       "    </tr>\n",
       "    <tr>\n",
       "      <th id=\"T_21ea3_level0_row5\" class=\"row_heading level0 row5\" >lead_time</th>\n",
       "      <td id=\"T_21ea3_row5_col0\" class=\"data row5 col0\" >36275.000000</td>\n",
       "      <td id=\"T_21ea3_row5_col1\" class=\"data row5 col1\" >85.232557</td>\n",
       "      <td id=\"T_21ea3_row5_col2\" class=\"data row5 col2\" >85.930817</td>\n",
       "      <td id=\"T_21ea3_row5_col3\" class=\"data row5 col3\" >0.000000</td>\n",
       "      <td id=\"T_21ea3_row5_col4\" class=\"data row5 col4\" >17.000000</td>\n",
       "      <td id=\"T_21ea3_row5_col5\" class=\"data row5 col5\" >57.000000</td>\n",
       "      <td id=\"T_21ea3_row5_col6\" class=\"data row5 col6\" >126.000000</td>\n",
       "      <td id=\"T_21ea3_row5_col7\" class=\"data row5 col7\" >443.000000</td>\n",
       "    </tr>\n",
       "    <tr>\n",
       "      <th id=\"T_21ea3_level0_row6\" class=\"row_heading level0 row6\" >arrival_year</th>\n",
       "      <td id=\"T_21ea3_row6_col0\" class=\"data row6 col0\" >36275.000000</td>\n",
       "      <td id=\"T_21ea3_row6_col1\" class=\"data row6 col1\" >2017.820427</td>\n",
       "      <td id=\"T_21ea3_row6_col2\" class=\"data row6 col2\" >0.383836</td>\n",
       "      <td id=\"T_21ea3_row6_col3\" class=\"data row6 col3\" >2017.000000</td>\n",
       "      <td id=\"T_21ea3_row6_col4\" class=\"data row6 col4\" >2018.000000</td>\n",
       "      <td id=\"T_21ea3_row6_col5\" class=\"data row6 col5\" >2018.000000</td>\n",
       "      <td id=\"T_21ea3_row6_col6\" class=\"data row6 col6\" >2018.000000</td>\n",
       "      <td id=\"T_21ea3_row6_col7\" class=\"data row6 col7\" >2018.000000</td>\n",
       "    </tr>\n",
       "    <tr>\n",
       "      <th id=\"T_21ea3_level0_row7\" class=\"row_heading level0 row7\" >arrival_month</th>\n",
       "      <td id=\"T_21ea3_row7_col0\" class=\"data row7 col0\" >36275.000000</td>\n",
       "      <td id=\"T_21ea3_row7_col1\" class=\"data row7 col1\" >7.423653</td>\n",
       "      <td id=\"T_21ea3_row7_col2\" class=\"data row7 col2\" >3.069894</td>\n",
       "      <td id=\"T_21ea3_row7_col3\" class=\"data row7 col3\" >1.000000</td>\n",
       "      <td id=\"T_21ea3_row7_col4\" class=\"data row7 col4\" >5.000000</td>\n",
       "      <td id=\"T_21ea3_row7_col5\" class=\"data row7 col5\" >8.000000</td>\n",
       "      <td id=\"T_21ea3_row7_col6\" class=\"data row7 col6\" >10.000000</td>\n",
       "      <td id=\"T_21ea3_row7_col7\" class=\"data row7 col7\" >12.000000</td>\n",
       "    </tr>\n",
       "    <tr>\n",
       "      <th id=\"T_21ea3_level0_row8\" class=\"row_heading level0 row8\" >arrival_date</th>\n",
       "      <td id=\"T_21ea3_row8_col0\" class=\"data row8 col0\" >36275.000000</td>\n",
       "      <td id=\"T_21ea3_row8_col1\" class=\"data row8 col1\" >15.596995</td>\n",
       "      <td id=\"T_21ea3_row8_col2\" class=\"data row8 col2\" >8.740447</td>\n",
       "      <td id=\"T_21ea3_row8_col3\" class=\"data row8 col3\" >1.000000</td>\n",
       "      <td id=\"T_21ea3_row8_col4\" class=\"data row8 col4\" >8.000000</td>\n",
       "      <td id=\"T_21ea3_row8_col5\" class=\"data row8 col5\" >16.000000</td>\n",
       "      <td id=\"T_21ea3_row8_col6\" class=\"data row8 col6\" >23.000000</td>\n",
       "      <td id=\"T_21ea3_row8_col7\" class=\"data row8 col7\" >31.000000</td>\n",
       "    </tr>\n",
       "    <tr>\n",
       "      <th id=\"T_21ea3_level0_row9\" class=\"row_heading level0 row9\" >repeated_guest</th>\n",
       "      <td id=\"T_21ea3_row9_col0\" class=\"data row9 col0\" >36275.000000</td>\n",
       "      <td id=\"T_21ea3_row9_col1\" class=\"data row9 col1\" >0.025637</td>\n",
       "      <td id=\"T_21ea3_row9_col2\" class=\"data row9 col2\" >0.158053</td>\n",
       "      <td id=\"T_21ea3_row9_col3\" class=\"data row9 col3\" >0.000000</td>\n",
       "      <td id=\"T_21ea3_row9_col4\" class=\"data row9 col4\" >0.000000</td>\n",
       "      <td id=\"T_21ea3_row9_col5\" class=\"data row9 col5\" >0.000000</td>\n",
       "      <td id=\"T_21ea3_row9_col6\" class=\"data row9 col6\" >0.000000</td>\n",
       "      <td id=\"T_21ea3_row9_col7\" class=\"data row9 col7\" >1.000000</td>\n",
       "    </tr>\n",
       "    <tr>\n",
       "      <th id=\"T_21ea3_level0_row10\" class=\"row_heading level0 row10\" >no_of_previous_cancellations</th>\n",
       "      <td id=\"T_21ea3_row10_col0\" class=\"data row10 col0\" >36275.000000</td>\n",
       "      <td id=\"T_21ea3_row10_col1\" class=\"data row10 col1\" >0.023349</td>\n",
       "      <td id=\"T_21ea3_row10_col2\" class=\"data row10 col2\" >0.368331</td>\n",
       "      <td id=\"T_21ea3_row10_col3\" class=\"data row10 col3\" >0.000000</td>\n",
       "      <td id=\"T_21ea3_row10_col4\" class=\"data row10 col4\" >0.000000</td>\n",
       "      <td id=\"T_21ea3_row10_col5\" class=\"data row10 col5\" >0.000000</td>\n",
       "      <td id=\"T_21ea3_row10_col6\" class=\"data row10 col6\" >0.000000</td>\n",
       "      <td id=\"T_21ea3_row10_col7\" class=\"data row10 col7\" >13.000000</td>\n",
       "    </tr>\n",
       "    <tr>\n",
       "      <th id=\"T_21ea3_level0_row11\" class=\"row_heading level0 row11\" >no_of_previous_bookings_not_canceled</th>\n",
       "      <td id=\"T_21ea3_row11_col0\" class=\"data row11 col0\" >36275.000000</td>\n",
       "      <td id=\"T_21ea3_row11_col1\" class=\"data row11 col1\" >0.153411</td>\n",
       "      <td id=\"T_21ea3_row11_col2\" class=\"data row11 col2\" >1.754171</td>\n",
       "      <td id=\"T_21ea3_row11_col3\" class=\"data row11 col3\" >0.000000</td>\n",
       "      <td id=\"T_21ea3_row11_col4\" class=\"data row11 col4\" >0.000000</td>\n",
       "      <td id=\"T_21ea3_row11_col5\" class=\"data row11 col5\" >0.000000</td>\n",
       "      <td id=\"T_21ea3_row11_col6\" class=\"data row11 col6\" >0.000000</td>\n",
       "      <td id=\"T_21ea3_row11_col7\" class=\"data row11 col7\" >58.000000</td>\n",
       "    </tr>\n",
       "    <tr>\n",
       "      <th id=\"T_21ea3_level0_row12\" class=\"row_heading level0 row12\" >avg_price_per_room</th>\n",
       "      <td id=\"T_21ea3_row12_col0\" class=\"data row12 col0\" >36275.000000</td>\n",
       "      <td id=\"T_21ea3_row12_col1\" class=\"data row12 col1\" >103.423539</td>\n",
       "      <td id=\"T_21ea3_row12_col2\" class=\"data row12 col2\" >35.089424</td>\n",
       "      <td id=\"T_21ea3_row12_col3\" class=\"data row12 col3\" >0.000000</td>\n",
       "      <td id=\"T_21ea3_row12_col4\" class=\"data row12 col4\" >80.300000</td>\n",
       "      <td id=\"T_21ea3_row12_col5\" class=\"data row12 col5\" >99.450000</td>\n",
       "      <td id=\"T_21ea3_row12_col6\" class=\"data row12 col6\" >120.000000</td>\n",
       "      <td id=\"T_21ea3_row12_col7\" class=\"data row12 col7\" >540.000000</td>\n",
       "    </tr>\n",
       "    <tr>\n",
       "      <th id=\"T_21ea3_level0_row13\" class=\"row_heading level0 row13\" >no_of_special_requests</th>\n",
       "      <td id=\"T_21ea3_row13_col0\" class=\"data row13 col0\" >36275.000000</td>\n",
       "      <td id=\"T_21ea3_row13_col1\" class=\"data row13 col1\" >0.619655</td>\n",
       "      <td id=\"T_21ea3_row13_col2\" class=\"data row13 col2\" >0.786236</td>\n",
       "      <td id=\"T_21ea3_row13_col3\" class=\"data row13 col3\" >0.000000</td>\n",
       "      <td id=\"T_21ea3_row13_col4\" class=\"data row13 col4\" >0.000000</td>\n",
       "      <td id=\"T_21ea3_row13_col5\" class=\"data row13 col5\" >0.000000</td>\n",
       "      <td id=\"T_21ea3_row13_col6\" class=\"data row13 col6\" >1.000000</td>\n",
       "      <td id=\"T_21ea3_row13_col7\" class=\"data row13 col7\" >5.000000</td>\n",
       "    </tr>\n",
       "  </tbody>\n",
       "</table>\n"
      ],
      "text/plain": [
       "<pandas.io.formats.style.Styler at 0x2a8180e0a60>"
      ]
     },
     "execution_count": 82,
     "metadata": {},
     "output_type": "execute_result"
    }
   ],
   "source": [
    "df_hotel_reservation.describe().T.style.background_gradient()"
   ]
  },
  {
   "cell_type": "markdown",
   "id": "eda4f190-82c1-4e84-88fd-7de2a47b9625",
   "metadata": {
    "canvas": {
     "comments": [],
     "componentType": "CodeCell",
     "copiedOriginId": "d193ba31-4f2f-4f60-a03d-dfdbaf4d7a0e",
     "diskcache": false,
     "headerColor": "transparent",
     "id": "97300a79-aa31-41b1-943f-b9a839d7165a",
     "isComponent": false,
     "name": "",
     "parents": []
    },
    "tags": []
   },
   "source": [
    "## \n",
    "<h2 id=\"import\" style=\"color: #00c6ff ; background:#000000  ; padding: 20px; border-radius: 20px; text-align: center; border: 5px solid #990000;\">\n",
    "       III. Exploratory Data Analysis (EDA):\n",
    "    </h2>"
   ]
  }
 ],
 "metadata": {
  "canvas": {
   "colorPalette": [
    "inherit",
    "inherit",
    "inherit",
    "inherit",
    "inherit",
    "inherit",
    "inherit",
    "inherit",
    "inherit",
    "inherit"
   ],
   "parameters": [],
   "version": "1.0"
  },
  "kernelspec": {
   "display_name": "Python 3 (ipykernel)",
   "language": "python",
   "name": "python3"
  },
  "language_info": {
   "codemirror_mode": {
    "name": "ipython",
    "version": 3
   },
   "file_extension": ".py",
   "mimetype": "text/x-python",
   "name": "python",
   "nbconvert_exporter": "python",
   "pygments_lexer": "ipython3",
   "version": "3.10.5"
  },
  "widgets": {
   "application/vnd.jupyter.widget-state+json": {
    "state": {
     "08e5248ccb2f49d49bed1d1f8387dd93": {
      "model_module": "@jupyter-widgets/base",
      "model_module_version": "1.2.0",
      "model_name": "LayoutModel",
      "state": {
       "display": "inline-flex",
       "flex_flow": "row wrap",
       "visibility": "hidden",
       "width": "100%"
      }
     },
     "0ea2441b237f47efbe62f9a3131e35a7": {
      "model_module": "@jupyter-widgets/controls",
      "model_module_version": "1.5.0",
      "model_name": "DescriptionStyleModel",
      "state": {
       "description_width": ""
      }
     },
     "1d07706d2e0846b49df1d72b9e3089c0": {
      "model_module": "@jupyter-widgets/base",
      "model_module_version": "1.2.0",
      "model_name": "LayoutModel",
      "state": {
       "display": "inline-flex",
       "flex_flow": "row wrap",
       "visibility": "hidden",
       "width": "100%"
      }
     },
     "1fa6f41aaab54045bca86d2ca9674c2a": {
      "model_module": "@jupyter-widgets/controls",
      "model_module_version": "1.5.0",
      "model_name": "HTMLModel",
      "state": {
       "layout": "IPY_MODEL_7ed8065084ed47b7b094b641c90f54fc",
       "style": "IPY_MODEL_521b7fc303b64110901e58936db8105e",
       "value": "Computing finalize-403ac897-a2dd-4206-bf30-8c2292da5aa4:  86%"
      }
     },
     "2042167b2c764aa2af60a85e39a71d03": {
      "model_module": "@jupyter-widgets/base",
      "model_module_version": "1.2.0",
      "model_name": "LayoutModel",
      "state": {
       "flex": "2"
      }
     },
     "28f3bf894ea0460a80b5720d7bc4c1bc": {
      "model_module": "@jupyter-widgets/controls",
      "model_module_version": "1.5.0",
      "model_name": "FloatProgressModel",
      "state": {
       "layout": "IPY_MODEL_2042167b2c764aa2af60a85e39a71d03",
       "max": 2253,
       "style": "IPY_MODEL_88432ff020ed43f9abf5d6e2f1511c40",
       "value": 2253
      }
     },
     "2cdb8ecca45b454c8a9ad31746dfa977": {
      "model_module": "@jupyter-widgets/base",
      "model_module_version": "1.2.0",
      "model_name": "LayoutModel",
      "state": {
       "flex": "2"
      }
     },
     "37bf57040f8647538466a705c7b15263": {
      "model_module": "@jupyter-widgets/base",
      "model_module_version": "1.2.0",
      "model_name": "LayoutModel",
      "state": {}
     },
     "4217ac997865490e93c384abbc3350d2": {
      "model_module": "@jupyter-widgets/controls",
      "model_module_version": "1.5.0",
      "model_name": "FloatProgressModel",
      "state": {
       "layout": "IPY_MODEL_be51e865a668435bbd8552bdb1e12481",
       "max": 341,
       "style": "IPY_MODEL_dabdb7e564be47aeadc3d49847d634ef",
       "value": 341
      }
     },
     "521b7fc303b64110901e58936db8105e": {
      "model_module": "@jupyter-widgets/controls",
      "model_module_version": "1.5.0",
      "model_name": "DescriptionStyleModel",
      "state": {
       "description_width": ""
      }
     },
     "543e2db8b538438fbf56cc13c9da8448": {
      "model_module": "@jupyter-widgets/base",
      "model_module_version": "1.2.0",
      "model_name": "LayoutModel",
      "state": {}
     },
     "6291b4cdf3c841ab8692f186d8bc754c": {
      "model_module": "@jupyter-widgets/controls",
      "model_module_version": "1.5.0",
      "model_name": "DescriptionStyleModel",
      "state": {
       "description_width": ""
      }
     },
     "784c0465025a48bfa68f7343a6d4f929": {
      "model_module": "@jupyter-widgets/base",
      "model_module_version": "1.2.0",
      "model_name": "LayoutModel",
      "state": {
       "display": "inline-flex",
       "flex_flow": "row wrap",
       "visibility": "hidden",
       "width": "100%"
      }
     },
     "78bb1c9fabce4e638d31a2a2a54c111c": {
      "model_module": "@jupyter-widgets/controls",
      "model_module_version": "1.5.0",
      "model_name": "DescriptionStyleModel",
      "state": {
       "description_width": ""
      }
     },
     "7ed8065084ed47b7b094b641c90f54fc": {
      "model_module": "@jupyter-widgets/base",
      "model_module_version": "1.2.0",
      "model_name": "LayoutModel",
      "state": {}
     },
     "88432ff020ed43f9abf5d6e2f1511c40": {
      "model_module": "@jupyter-widgets/controls",
      "model_module_version": "1.5.0",
      "model_name": "ProgressStyleModel",
      "state": {
       "description_width": ""
      }
     },
     "8a5ddea895334feba47b68268436bff4": {
      "model_module": "@jupyter-widgets/controls",
      "model_module_version": "1.5.0",
      "model_name": "HTMLModel",
      "state": {
       "layout": "IPY_MODEL_bb4a31abe5c44bb2a91f3f6e727af841",
       "style": "IPY_MODEL_efa9bcb5cb6b4ceb9fbe63bc53b6e27d",
       "value": " 1930/2253 [00:00&lt;00:00, 3343.81it/s]"
      }
     },
     "8cd9340cd364442e999a9a6306eefae9": {
      "model_module": "@jupyter-widgets/controls",
      "model_module_version": "1.5.0",
      "model_name": "HTMLModel",
      "state": {
       "layout": "IPY_MODEL_a9c349a1f7ac442d8d573465b0625ef9",
       "style": "IPY_MODEL_0ea2441b237f47efbe62f9a3131e35a7",
       "value": " 2071/2338 [00:00&lt;00:00, 2975.30it/s]"
      }
     },
     "95d25a3685bb47baa4cf7c0ff9c581c0": {
      "model_module": "@jupyter-widgets/controls",
      "model_module_version": "1.5.0",
      "model_name": "DescriptionStyleModel",
      "state": {
       "description_width": ""
      }
     },
     "a9c349a1f7ac442d8d573465b0625ef9": {
      "model_module": "@jupyter-widgets/base",
      "model_module_version": "1.2.0",
      "model_name": "LayoutModel",
      "state": {}
     },
     "b11493bd792a4dc4b4bd208b530f7410": {
      "model_module": "@jupyter-widgets/controls",
      "model_module_version": "1.5.0",
      "model_name": "HTMLModel",
      "state": {
       "layout": "IPY_MODEL_37bf57040f8647538466a705c7b15263",
       "style": "IPY_MODEL_95d25a3685bb47baa4cf7c0ff9c581c0",
       "value": " 341/341 [00:00&lt;00:00, 1174.34it/s]"
      }
     },
     "b696efb8c8e545ca85574dac4d81c1eb": {
      "model_module": "@jupyter-widgets/controls",
      "model_module_version": "1.5.0",
      "model_name": "ProgressStyleModel",
      "state": {
       "description_width": ""
      }
     },
     "bb4a31abe5c44bb2a91f3f6e727af841": {
      "model_module": "@jupyter-widgets/base",
      "model_module_version": "1.2.0",
      "model_name": "LayoutModel",
      "state": {}
     },
     "be51e865a668435bbd8552bdb1e12481": {
      "model_module": "@jupyter-widgets/base",
      "model_module_version": "1.2.0",
      "model_name": "LayoutModel",
      "state": {
       "flex": "2"
      }
     },
     "cf1b8cb7b99f4297b506c5599031e0f0": {
      "model_module": "@jupyter-widgets/controls",
      "model_module_version": "1.5.0",
      "model_name": "FloatProgressModel",
      "state": {
       "layout": "IPY_MODEL_2cdb8ecca45b454c8a9ad31746dfa977",
       "max": 2338,
       "style": "IPY_MODEL_b696efb8c8e545ca85574dac4d81c1eb",
       "value": 2338
      }
     },
     "dabdb7e564be47aeadc3d49847d634ef": {
      "model_module": "@jupyter-widgets/controls",
      "model_module_version": "1.5.0",
      "model_name": "ProgressStyleModel",
      "state": {
       "description_width": ""
      }
     },
     "ee8171ac07f044b39f15b8d76d165915": {
      "model_module": "@jupyter-widgets/controls",
      "model_module_version": "1.5.0",
      "model_name": "HTMLModel",
      "state": {
       "layout": "IPY_MODEL_f0273ef66be7476abca4e1ef2d9b9baa",
       "style": "IPY_MODEL_6291b4cdf3c841ab8692f186d8bc754c",
       "value": "Computing concatenate-2e4758c2b920fd922d499fd9c0e071ba:  89%"
      }
     },
     "eedcbfa256d44323b2d6da63dcdf0717": {
      "model_module": "@jupyter-widgets/controls",
      "model_module_version": "1.5.0",
      "model_name": "HTMLModel",
      "state": {
       "layout": "IPY_MODEL_543e2db8b538438fbf56cc13c9da8448",
       "style": "IPY_MODEL_78bb1c9fabce4e638d31a2a2a54c111c",
       "value": "Computing stack-1d69e23bad118f356efe58ffd0af8b13: 100%"
      }
     },
     "efa9bcb5cb6b4ceb9fbe63bc53b6e27d": {
      "model_module": "@jupyter-widgets/controls",
      "model_module_version": "1.5.0",
      "model_name": "DescriptionStyleModel",
      "state": {
       "description_width": ""
      }
     },
     "f0273ef66be7476abca4e1ef2d9b9baa": {
      "model_module": "@jupyter-widgets/base",
      "model_module_version": "1.2.0",
      "model_name": "LayoutModel",
      "state": {}
     }
    },
    "version_major": 2,
    "version_minor": 0
   }
  }
 },
 "nbformat": 4,
 "nbformat_minor": 5
}
