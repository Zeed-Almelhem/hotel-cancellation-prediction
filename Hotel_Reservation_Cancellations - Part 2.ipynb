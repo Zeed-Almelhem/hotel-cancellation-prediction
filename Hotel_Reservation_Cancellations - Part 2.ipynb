{
 "cells": [
  {
   "cell_type": "markdown",
   "id": "eda4f190-82c1-4e84-88fd-7de2a47b9625",
   "metadata": {
    "canvas": {
     "comments": [],
     "componentType": "CodeCell",
     "copiedOriginId": "d193ba31-4f2f-4f60-a03d-dfdbaf4d7a0e",
     "diskcache": false,
     "headerColor": "transparent",
     "id": "97300a79-aa31-41b1-943f-b9a839d7165a",
     "isComponent": false,
     "name": "",
     "parents": []
    },
    "tags": []
   },
   "source": [
    "## \n",
    "<h2 id=\"import\" style=\"color: #00c6ff ; background:#000000  ; padding: 20px; border-radius: 20px; text-align: center; border: 5px solid #990000;\">\n",
    "       III. Exploratory Data Analysis (EDA):\n",
    "    </h2>"
   ]
  },
  {
   "cell_type": "markdown",
   "id": "370fb20f-3f36-4f2a-937d-e92d93d80d98",
   "metadata": {
    "canvas": {
     "comments": [],
     "componentType": "CodeCell",
     "copiedOriginId": "eb08be7d-c7a0-49be-8c6e-a68e38cb3fe2",
     "diskcache": false,
     "headerColor": "transparent",
     "id": "46737fcc-dfbc-4fa6-973a-f5d358a8669e",
     "isComponent": false,
     "name": "",
     "parents": []
    },
    "tags": []
   },
   "source": [
    "### \n",
    "<h3 id=\"import\" style=\"color: #a4edb8 ; background: #000000; padding: 20px; border-radius: 20px; text-align: left; border: 5px solid #990000;\">\n",
    "        1. Comprehensive DataFrame Analysis Report: Uncovering Patterns and Insights for In-depth Study\n",
    "    </h3>"
   ]
  },
  {
   "cell_type": "markdown",
   "id": "386be7d1-9e06-4108-ad03-9818a8f19290",
   "metadata": {
    "canvas": {
     "comments": [],
     "componentType": "CodeCell",
     "copiedOriginId": "11160609-0f5a-49e5-a298-e8e38d907691",
     "diskcache": false,
     "headerColor": "transparent",
     "id": "7a46dab0-2cf6-435a-bb46-f7c344aaa1bc",
     "isComponent": false,
     "name": "",
     "parents": []
    }
   },
   "source": [
    "Let's generate a comprehensive report that examines and analyzes all the columns in the DataFrame. This report will provide insights into the characteristics of each column, their relationships with one another, correlations, presence of missing values, and the distribution of data. By creating this full report, we aim to gain a deeper understanding of the dataset and uncover valuable patterns and trends that can aid in our study and analysis."
   ]
  },
  {
   "cell_type": "code",
   "execution_count": null,
   "id": "322cbecc-1e95-4ac9-b1b6-7ff6d954f5ca",
   "metadata": {
    "canvas": {
     "comments": [],
     "componentType": "CodeCell",
     "copiedOriginId": "4cdcb48e-2e5c-4433-9564-329ef70a8fca",
     "diskcache": false,
     "headerColor": "transparent",
     "id": "cfe5b932-91ec-4ea8-8fcd-3a4128dc5ae6",
     "isComponent": false,
     "name": "",
     "parents": []
    }
   },
   "outputs": [],
   "source": [
    "from dataprep.eda import create_report, plot, plot_correlation, plot_missing , plot_diff\n",
    "\n",
    "# Create Dataprep EDA report\n",
    "full_report = create_report(df_hotel_reservation)\n",
    "\n",
    "# Save the EDA report as an HTML file\n",
    "full_report.save(\"hotel_reservation_eda_full_report.html\")\n",
    "\n",
    "# Show the report\n",
    "full_report.show()"
   ]
  }
 ],
 "metadata": {
  "canvas": {
   "colorPalette": [
    "inherit",
    "inherit",
    "inherit",
    "inherit",
    "inherit",
    "inherit",
    "inherit",
    "inherit",
    "inherit",
    "inherit"
   ],
   "parameters": [],
   "version": "1.0"
  },
  "kernelspec": {
   "display_name": "Python 3 (ipykernel)",
   "language": "python",
   "name": "python3"
  },
  "language_info": {
   "codemirror_mode": {
    "name": "ipython",
    "version": 3
   },
   "file_extension": ".py",
   "mimetype": "text/x-python",
   "name": "python",
   "nbconvert_exporter": "python",
   "pygments_lexer": "ipython3",
   "version": "3.10.5"
  },
  "widgets": {
   "application/vnd.jupyter.widget-state+json": {
    "state": {
     "08e5248ccb2f49d49bed1d1f8387dd93": {
      "model_module": "@jupyter-widgets/base",
      "model_module_version": "1.2.0",
      "model_name": "LayoutModel",
      "state": {
       "display": "inline-flex",
       "flex_flow": "row wrap",
       "visibility": "hidden",
       "width": "100%"
      }
     },
     "0ea2441b237f47efbe62f9a3131e35a7": {
      "model_module": "@jupyter-widgets/controls",
      "model_module_version": "1.5.0",
      "model_name": "DescriptionStyleModel",
      "state": {
       "description_width": ""
      }
     },
     "1d07706d2e0846b49df1d72b9e3089c0": {
      "model_module": "@jupyter-widgets/base",
      "model_module_version": "1.2.0",
      "model_name": "LayoutModel",
      "state": {
       "display": "inline-flex",
       "flex_flow": "row wrap",
       "visibility": "hidden",
       "width": "100%"
      }
     },
     "1fa6f41aaab54045bca86d2ca9674c2a": {
      "model_module": "@jupyter-widgets/controls",
      "model_module_version": "1.5.0",
      "model_name": "HTMLModel",
      "state": {
       "layout": "IPY_MODEL_7ed8065084ed47b7b094b641c90f54fc",
       "style": "IPY_MODEL_521b7fc303b64110901e58936db8105e",
       "value": "Computing finalize-403ac897-a2dd-4206-bf30-8c2292da5aa4:  86%"
      }
     },
     "2042167b2c764aa2af60a85e39a71d03": {
      "model_module": "@jupyter-widgets/base",
      "model_module_version": "1.2.0",
      "model_name": "LayoutModel",
      "state": {
       "flex": "2"
      }
     },
     "28f3bf894ea0460a80b5720d7bc4c1bc": {
      "model_module": "@jupyter-widgets/controls",
      "model_module_version": "1.5.0",
      "model_name": "FloatProgressModel",
      "state": {
       "layout": "IPY_MODEL_2042167b2c764aa2af60a85e39a71d03",
       "max": 2253,
       "style": "IPY_MODEL_88432ff020ed43f9abf5d6e2f1511c40",
       "value": 2253
      }
     },
     "2cdb8ecca45b454c8a9ad31746dfa977": {
      "model_module": "@jupyter-widgets/base",
      "model_module_version": "1.2.0",
      "model_name": "LayoutModel",
      "state": {
       "flex": "2"
      }
     },
     "37bf57040f8647538466a705c7b15263": {
      "model_module": "@jupyter-widgets/base",
      "model_module_version": "1.2.0",
      "model_name": "LayoutModel",
      "state": {}
     },
     "4217ac997865490e93c384abbc3350d2": {
      "model_module": "@jupyter-widgets/controls",
      "model_module_version": "1.5.0",
      "model_name": "FloatProgressModel",
      "state": {
       "layout": "IPY_MODEL_be51e865a668435bbd8552bdb1e12481",
       "max": 341,
       "style": "IPY_MODEL_dabdb7e564be47aeadc3d49847d634ef",
       "value": 341
      }
     },
     "521b7fc303b64110901e58936db8105e": {
      "model_module": "@jupyter-widgets/controls",
      "model_module_version": "1.5.0",
      "model_name": "DescriptionStyleModel",
      "state": {
       "description_width": ""
      }
     },
     "543e2db8b538438fbf56cc13c9da8448": {
      "model_module": "@jupyter-widgets/base",
      "model_module_version": "1.2.0",
      "model_name": "LayoutModel",
      "state": {}
     },
     "6291b4cdf3c841ab8692f186d8bc754c": {
      "model_module": "@jupyter-widgets/controls",
      "model_module_version": "1.5.0",
      "model_name": "DescriptionStyleModel",
      "state": {
       "description_width": ""
      }
     },
     "784c0465025a48bfa68f7343a6d4f929": {
      "model_module": "@jupyter-widgets/base",
      "model_module_version": "1.2.0",
      "model_name": "LayoutModel",
      "state": {
       "display": "inline-flex",
       "flex_flow": "row wrap",
       "visibility": "hidden",
       "width": "100%"
      }
     },
     "78bb1c9fabce4e638d31a2a2a54c111c": {
      "model_module": "@jupyter-widgets/controls",
      "model_module_version": "1.5.0",
      "model_name": "DescriptionStyleModel",
      "state": {
       "description_width": ""
      }
     },
     "7ed8065084ed47b7b094b641c90f54fc": {
      "model_module": "@jupyter-widgets/base",
      "model_module_version": "1.2.0",
      "model_name": "LayoutModel",
      "state": {}
     },
     "88432ff020ed43f9abf5d6e2f1511c40": {
      "model_module": "@jupyter-widgets/controls",
      "model_module_version": "1.5.0",
      "model_name": "ProgressStyleModel",
      "state": {
       "description_width": ""
      }
     },
     "8a5ddea895334feba47b68268436bff4": {
      "model_module": "@jupyter-widgets/controls",
      "model_module_version": "1.5.0",
      "model_name": "HTMLModel",
      "state": {
       "layout": "IPY_MODEL_bb4a31abe5c44bb2a91f3f6e727af841",
       "style": "IPY_MODEL_efa9bcb5cb6b4ceb9fbe63bc53b6e27d",
       "value": " 1930/2253 [00:00&lt;00:00, 3343.81it/s]"
      }
     },
     "8cd9340cd364442e999a9a6306eefae9": {
      "model_module": "@jupyter-widgets/controls",
      "model_module_version": "1.5.0",
      "model_name": "HTMLModel",
      "state": {
       "layout": "IPY_MODEL_a9c349a1f7ac442d8d573465b0625ef9",
       "style": "IPY_MODEL_0ea2441b237f47efbe62f9a3131e35a7",
       "value": " 2071/2338 [00:00&lt;00:00, 2975.30it/s]"
      }
     },
     "95d25a3685bb47baa4cf7c0ff9c581c0": {
      "model_module": "@jupyter-widgets/controls",
      "model_module_version": "1.5.0",
      "model_name": "DescriptionStyleModel",
      "state": {
       "description_width": ""
      }
     },
     "a9c349a1f7ac442d8d573465b0625ef9": {
      "model_module": "@jupyter-widgets/base",
      "model_module_version": "1.2.0",
      "model_name": "LayoutModel",
      "state": {}
     },
     "b11493bd792a4dc4b4bd208b530f7410": {
      "model_module": "@jupyter-widgets/controls",
      "model_module_version": "1.5.0",
      "model_name": "HTMLModel",
      "state": {
       "layout": "IPY_MODEL_37bf57040f8647538466a705c7b15263",
       "style": "IPY_MODEL_95d25a3685bb47baa4cf7c0ff9c581c0",
       "value": " 341/341 [00:00&lt;00:00, 1174.34it/s]"
      }
     },
     "b696efb8c8e545ca85574dac4d81c1eb": {
      "model_module": "@jupyter-widgets/controls",
      "model_module_version": "1.5.0",
      "model_name": "ProgressStyleModel",
      "state": {
       "description_width": ""
      }
     },
     "bb4a31abe5c44bb2a91f3f6e727af841": {
      "model_module": "@jupyter-widgets/base",
      "model_module_version": "1.2.0",
      "model_name": "LayoutModel",
      "state": {}
     },
     "be51e865a668435bbd8552bdb1e12481": {
      "model_module": "@jupyter-widgets/base",
      "model_module_version": "1.2.0",
      "model_name": "LayoutModel",
      "state": {
       "flex": "2"
      }
     },
     "cf1b8cb7b99f4297b506c5599031e0f0": {
      "model_module": "@jupyter-widgets/controls",
      "model_module_version": "1.5.0",
      "model_name": "FloatProgressModel",
      "state": {
       "layout": "IPY_MODEL_2cdb8ecca45b454c8a9ad31746dfa977",
       "max": 2338,
       "style": "IPY_MODEL_b696efb8c8e545ca85574dac4d81c1eb",
       "value": 2338
      }
     },
     "dabdb7e564be47aeadc3d49847d634ef": {
      "model_module": "@jupyter-widgets/controls",
      "model_module_version": "1.5.0",
      "model_name": "ProgressStyleModel",
      "state": {
       "description_width": ""
      }
     },
     "ee8171ac07f044b39f15b8d76d165915": {
      "model_module": "@jupyter-widgets/controls",
      "model_module_version": "1.5.0",
      "model_name": "HTMLModel",
      "state": {
       "layout": "IPY_MODEL_f0273ef66be7476abca4e1ef2d9b9baa",
       "style": "IPY_MODEL_6291b4cdf3c841ab8692f186d8bc754c",
       "value": "Computing concatenate-2e4758c2b920fd922d499fd9c0e071ba:  89%"
      }
     },
     "eedcbfa256d44323b2d6da63dcdf0717": {
      "model_module": "@jupyter-widgets/controls",
      "model_module_version": "1.5.0",
      "model_name": "HTMLModel",
      "state": {
       "layout": "IPY_MODEL_543e2db8b538438fbf56cc13c9da8448",
       "style": "IPY_MODEL_78bb1c9fabce4e638d31a2a2a54c111c",
       "value": "Computing stack-1d69e23bad118f356efe58ffd0af8b13: 100%"
      }
     },
     "efa9bcb5cb6b4ceb9fbe63bc53b6e27d": {
      "model_module": "@jupyter-widgets/controls",
      "model_module_version": "1.5.0",
      "model_name": "DescriptionStyleModel",
      "state": {
       "description_width": ""
      }
     },
     "f0273ef66be7476abca4e1ef2d9b9baa": {
      "model_module": "@jupyter-widgets/base",
      "model_module_version": "1.2.0",
      "model_name": "LayoutModel",
      "state": {}
     }
    },
    "version_major": 2,
    "version_minor": 0
   }
  }
 },
 "nbformat": 4,
 "nbformat_minor": 5
}
